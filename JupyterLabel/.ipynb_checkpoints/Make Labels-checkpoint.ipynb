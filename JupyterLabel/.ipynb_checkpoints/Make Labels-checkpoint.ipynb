{
 "cells": [
  {
   "cell_type": "markdown",
   "metadata": {},
   "source": [
    "# Make Labels "
   ]
  },
  {
   "cell_type": "code",
   "execution_count": 3,
   "metadata": {
    "collapsed": false
   },
   "outputs": [
    {
     "name": "stdout",
     "output_type": "stream",
     "text": [
      "imported mailmerge\n"
     ]
    }
   ],
   "source": [
    "try:\n",
    "    from mailmerge import MailMerge\n",
    "    print ('imported mailmerge from local')\n",
    "except:\n",
    "    try:\n",
    "        print ('attempting mailmerge installation...')\n",
    "        !pip3 install docx-mailmerge\n",
    "    except:\n",
    "        print(\"can't get the mailmerge module\")"
   ]
  },
  {
   "cell_type": "code",
   "execution_count": 1,
   "metadata": {
    "collapsed": true
   },
   "outputs": [],
   "source": [
    "## Take a generic Excel File of Chain of Custody (CoC) and generate the appropriate labels\n",
    "## Basic modules\n",
    "from pandas import DataFrame, ExcelFile, notnull\n",
    "from mailmerge import MailMerge\n",
    "from requests import get\n"
   ]
  },
  {
   "cell_type": "raw",
   "metadata": {},
   "source": [
    "This program will generate labels from a Chain of Custody Form (filled out in the proper Excel template)\n",
    "If you are connected to the internet you can use a label template stored online...\n",
    "...or you can use your own stored locally"
   ]
  },
  {
   "cell_type": "code",
   "execution_count": 4,
   "metadata": {
    "collapsed": false
   },
   "outputs": [
    {
     "name": "stdout",
     "output_type": "stream",
     "text": [
      "Type the name of the Excel file, or drag and drop the Chain of Custody here: \n",
      " Example: C:/Users/alex.messina/Documents/Executable/CoC MS4 C034.xlsx \n",
      " \n",
      "C:/Users/alex.messina/Documents/Executable/CoC MS4 C034.xlsx \n"
     ]
    }
   ],
   "source": [
    "user_input = raw_input('Type the name of the Excel file, or drag and drop the Chain of Custody here: \\n Example: C:/Users/alex.messina/Documents/Executable/CoC MS4 C034.xlsx \\n \\n' ).replace(\"\\\\\", \"/\").strip('\"').strip(\"r'\") # uncomment -.strip(\"r'\")- for use in spyder testing"
   ]
  },
  {
   "cell_type": "code",
   "execution_count": 5,
   "metadata": {
    "collapsed": false
   },
   "outputs": [
    {
     "name": "stdout",
     "output_type": "stream",
     "text": [
      "Chain of Custody file selected\n",
      "C:/Users/alex.messina/Documents/Executable/CoC MS4 C034.xlsx \n"
     ]
    }
   ],
   "source": [
    "print ('Chain of Custody file selected')\n",
    "print (user_input)"
   ]
  },
  {
   "cell_type": "code",
   "execution_count": null,
   "metadata": {
    "collapsed": true
   },
   "outputs": [],
   "source": [
    "## Set directory where the Chain of Custody is:\n",
    "#maindir = \"C:/Users/alex.messina/Documents/GitHub/CoC-labels/Executable/\"\n",
    "maindir = '/'.join(user_input.split(\"/\")[:-1]) + '/'\n",
    "## Input the name of the excel file that is the Chain of Custody form\n",
    "Coc_Excel_File = user_input.split(\"/\")[-1]\n",
    "file_input = maindir+Coc_Excel_File\n",
    "#CoC = ExcelFile(maindir+Coc_Excel_File)"
   ]
  }
 ],
 "metadata": {
  "kernelspec": {
   "display_name": "Python 2",
   "language": "python",
   "name": "python2"
  },
  "language_info": {
   "codemirror_mode": {
    "name": "ipython",
    "version": 2
   },
   "file_extension": ".py",
   "mimetype": "text/x-python",
   "name": "python",
   "nbconvert_exporter": "python",
   "pygments_lexer": "ipython2",
   "version": "2.7.10"
  }
 },
 "nbformat": 4,
 "nbformat_minor": 2
}
